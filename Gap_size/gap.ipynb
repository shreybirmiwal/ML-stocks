{
 "cells": [
  {
   "attachments": {},
   "cell_type": "markdown",
   "metadata": {},
   "source": [
    "Can you write function that takes in symbol computes an array X:= gap size (in percentage) of the last 180 days and also the following:\n",
    "1)Average gap size of X\n",
    "2)Standard deviation of X\n",
    "3) histogram of X"
   ]
  },
  {
   "cell_type": "code",
   "execution_count": 2,
   "metadata": {},
   "outputs": [
    {
     "name": "stdout",
     "output_type": "stream",
     "text": [
      "Collecting yfinance\n",
      "  Downloading yfinance-0.2.22-py2.py3-none-any.whl (63 kB)\n",
      "                                              0.0/63.2 kB ? eta -:--:--\n",
      "     ---------------------------------------- 63.2/63.2 kB 3.3 MB/s eta 0:00:00\n",
      "Requirement already satisfied: pandas>=1.3.0 in c:\\users\\shrey birmiwal\\appdata\\local\\programs\\python\\python311\\lib\\site-packages (from yfinance) (2.0.2)\n",
      "Requirement already satisfied: numpy>=1.16.5 in c:\\users\\shrey birmiwal\\appdata\\roaming\\python\\python311\\site-packages (from yfinance) (1.23.5)\n",
      "Requirement already satisfied: requests>=2.26 in c:\\users\\shrey birmiwal\\appdata\\roaming\\python\\python311\\site-packages (from yfinance) (2.31.0)\n",
      "Collecting multitasking>=0.0.7 (from yfinance)\n",
      "  Downloading multitasking-0.0.11-py3-none-any.whl (8.5 kB)\n",
      "Collecting lxml>=4.9.1 (from yfinance)\n",
      "  Downloading lxml-4.9.2-cp311-cp311-win_amd64.whl (3.8 MB)\n",
      "                                              0.0/3.8 MB ? eta -:--:--\n",
      "     ---                                      0.3/3.8 MB 4.9 MB/s eta 0:00:01\n",
      "     -------                                  0.7/3.8 MB 4.7 MB/s eta 0:00:01\n",
      "     -------------                            1.3/3.8 MB 5.5 MB/s eta 0:00:01\n",
      "     -------------------                      1.9/3.8 MB 5.4 MB/s eta 0:00:01\n",
      "     -----------------------                  2.2/3.8 MB 5.4 MB/s eta 0:00:01\n",
      "     -----------------------------            2.8/3.8 MB 5.6 MB/s eta 0:00:01\n",
      "     ----------------------------------       3.3/3.8 MB 6.0 MB/s eta 0:00:01\n",
      "     --------------------------------------   3.6/3.8 MB 5.9 MB/s eta 0:00:01\n",
      "     ---------------------------------------- 3.8/3.8 MB 5.3 MB/s eta 0:00:00\n",
      "Collecting appdirs>=1.4.4 (from yfinance)\n",
      "  Using cached appdirs-1.4.4-py2.py3-none-any.whl (9.6 kB)\n",
      "Requirement already satisfied: pytz>=2022.5 in c:\\users\\shrey birmiwal\\appdata\\local\\programs\\python\\python311\\lib\\site-packages (from yfinance) (2023.3)\n",
      "Collecting frozendict>=2.3.4 (from yfinance)\n",
      "  Downloading frozendict-2.3.8-py311-none-any.whl (14 kB)\n",
      "Collecting beautifulsoup4>=4.11.1 (from yfinance)\n",
      "  Downloading beautifulsoup4-4.12.2-py3-none-any.whl (142 kB)\n",
      "                                              0.0/143.0 kB ? eta -:--:--\n",
      "     -------------------------------------- 143.0/143.0 kB 8.8 MB/s eta 0:00:00\n",
      "Collecting html5lib>=1.1 (from yfinance)\n",
      "  Downloading html5lib-1.1-py2.py3-none-any.whl (112 kB)\n",
      "                                              0.0/112.2 kB ? eta -:--:--\n",
      "     -------------------------------------- 112.2/112.2 kB 6.8 MB/s eta 0:00:00\n",
      "Collecting soupsieve>1.2 (from beautifulsoup4>=4.11.1->yfinance)\n",
      "  Downloading soupsieve-2.4.1-py3-none-any.whl (36 kB)\n",
      "Requirement already satisfied: six>=1.9 in c:\\users\\shrey birmiwal\\appdata\\roaming\\python\\python311\\site-packages (from html5lib>=1.1->yfinance) (1.16.0)\n",
      "Collecting webencodings (from html5lib>=1.1->yfinance)\n",
      "  Using cached webencodings-0.5.1-py2.py3-none-any.whl (11 kB)\n",
      "Requirement already satisfied: python-dateutil>=2.8.2 in c:\\users\\shrey birmiwal\\appdata\\roaming\\python\\python311\\site-packages (from pandas>=1.3.0->yfinance) (2.8.2)\n",
      "Requirement already satisfied: tzdata>=2022.1 in c:\\users\\shrey birmiwal\\appdata\\local\\programs\\python\\python311\\lib\\site-packages (from pandas>=1.3.0->yfinance) (2023.3)\n",
      "Requirement already satisfied: charset-normalizer<4,>=2 in c:\\users\\shrey birmiwal\\appdata\\roaming\\python\\python311\\site-packages (from requests>=2.26->yfinance) (3.1.0)\n",
      "Requirement already satisfied: idna<4,>=2.5 in c:\\users\\shrey birmiwal\\appdata\\roaming\\python\\python311\\site-packages (from requests>=2.26->yfinance) (3.4)\n",
      "Requirement already satisfied: urllib3<3,>=1.21.1 in c:\\users\\shrey birmiwal\\appdata\\local\\programs\\python\\python311\\lib\\site-packages (from requests>=2.26->yfinance) (1.26.16)\n",
      "Requirement already satisfied: certifi>=2017.4.17 in c:\\users\\shrey birmiwal\\appdata\\roaming\\python\\python311\\site-packages (from requests>=2.26->yfinance) (2023.5.7)\n",
      "Installing collected packages: webencodings, multitasking, appdirs, soupsieve, lxml, html5lib, frozendict, beautifulsoup4, yfinance\n",
      "Successfully installed appdirs-1.4.4 beautifulsoup4-4.12.2 frozendict-2.3.8 html5lib-1.1 lxml-4.9.2 multitasking-0.0.11 soupsieve-2.4.1 webencodings-0.5.1 yfinance-0.2.22\n"
     ]
    }
   ],
   "source": [
    "! pip install yfinance"
   ]
  },
  {
   "cell_type": "code",
   "execution_count": 4,
   "metadata": {},
   "outputs": [
    {
     "name": "stdout",
     "output_type": "stream",
     "text": [
      "Requirement already satisfied: pandas in c:\\users\\shrey birmiwal\\appdata\\local\\programs\\python\\python311\\lib\\site-packages (2.0.2)\n",
      "Requirement already satisfied: python-dateutil>=2.8.2 in c:\\users\\shrey birmiwal\\appdata\\roaming\\python\\python311\\site-packages (from pandas) (2.8.2)\n",
      "Requirement already satisfied: pytz>=2020.1 in c:\\users\\shrey birmiwal\\appdata\\local\\programs\\python\\python311\\lib\\site-packages (from pandas) (2023.3)\n",
      "Requirement already satisfied: tzdata>=2022.1 in c:\\users\\shrey birmiwal\\appdata\\local\\programs\\python\\python311\\lib\\site-packages (from pandas) (2023.3)\n",
      "Requirement already satisfied: numpy>=1.21.0 in c:\\users\\shrey birmiwal\\appdata\\roaming\\python\\python311\\site-packages (from pandas) (1.23.5)\n",
      "Requirement already satisfied: six>=1.5 in c:\\users\\shrey birmiwal\\appdata\\roaming\\python\\python311\\site-packages (from python-dateutil>=2.8.2->pandas) (1.16.0)\n"
     ]
    }
   ],
   "source": [
    "! pip install pandas"
   ]
  },
  {
   "cell_type": "code",
   "execution_count": 3,
   "metadata": {},
   "outputs": [
    {
     "name": "stdout",
     "output_type": "stream",
     "text": [
      "Collecting matplotlib\n",
      "  Downloading matplotlib-3.7.1-cp311-cp311-win_amd64.whl (7.6 MB)\n",
      "                                              0.0/7.6 MB ? eta -:--:--\n",
      "                                              0.1/7.6 MB 2.0 MB/s eta 0:00:04\n",
      "     -                                        0.2/7.6 MB 3.1 MB/s eta 0:00:03\n",
      "     ---                                      0.6/7.6 MB 4.1 MB/s eta 0:00:02\n",
      "     ----                                     0.8/7.6 MB 4.0 MB/s eta 0:00:02\n",
      "     ------                                   1.2/7.6 MB 4.8 MB/s eta 0:00:02\n",
      "     ---------                                1.8/7.6 MB 5.8 MB/s eta 0:00:02\n",
      "     ------------                             2.3/7.6 MB 6.1 MB/s eta 0:00:01\n",
      "     --------------                           2.7/7.6 MB 6.4 MB/s eta 0:00:01\n",
      "     ----------------                         3.1/7.6 MB 6.6 MB/s eta 0:00:01\n",
      "     ------------------                       3.6/7.6 MB 6.9 MB/s eta 0:00:01\n",
      "     ---------------------                    4.0/7.6 MB 7.1 MB/s eta 0:00:01\n",
      "     ----------------------                   4.3/7.6 MB 7.3 MB/s eta 0:00:01\n",
      "     -------------------------                4.8/7.6 MB 7.3 MB/s eta 0:00:01\n",
      "     ---------------------------              5.2/7.6 MB 7.3 MB/s eta 0:00:01\n",
      "     ----------------------------             5.5/7.6 MB 7.5 MB/s eta 0:00:01\n",
      "     ------------------------------           5.8/7.6 MB 7.3 MB/s eta 0:00:01\n",
      "     -------------------------------          6.0/7.6 MB 7.1 MB/s eta 0:00:01\n",
      "     --------------------------------         6.1/7.6 MB 7.1 MB/s eta 0:00:01\n",
      "     -----------------------------------      6.8/7.6 MB 7.2 MB/s eta 0:00:01\n",
      "     -------------------------------------    7.2/7.6 MB 7.2 MB/s eta 0:00:01\n",
      "     ---------------------------------------  7.6/7.6 MB 7.3 MB/s eta 0:00:01\n",
      "     ---------------------------------------- 7.6/7.6 MB 7.0 MB/s eta 0:00:00\n",
      "Collecting contourpy>=1.0.1 (from matplotlib)\n",
      "  Downloading contourpy-1.1.0-cp311-cp311-win_amd64.whl (470 kB)\n",
      "                                              0.0/470.9 kB ? eta -:--:--\n",
      "     ----------------------------           348.2/470.9 kB 7.2 MB/s eta 0:00:01\n",
      "     -------------------------------------- 470.9/470.9 kB 5.9 MB/s eta 0:00:00\n",
      "Collecting cycler>=0.10 (from matplotlib)\n",
      "  Using cached cycler-0.11.0-py3-none-any.whl (6.4 kB)\n",
      "Collecting fonttools>=4.22.0 (from matplotlib)\n",
      "  Downloading fonttools-4.40.0-cp311-cp311-win_amd64.whl (1.9 MB)\n",
      "                                              0.0/1.9 MB ? eta -:--:--\n",
      "     --------------                           0.7/1.9 MB 44.2 MB/s eta 0:00:01\n",
      "     ---------------------------              1.3/1.9 MB 16.9 MB/s eta 0:00:01\n",
      "     ---------------------------------------  1.9/1.9 MB 13.4 MB/s eta 0:00:01\n",
      "     ---------------------------------------- 1.9/1.9 MB 11.2 MB/s eta 0:00:00\n",
      "Collecting kiwisolver>=1.0.1 (from matplotlib)\n",
      "  Downloading kiwisolver-1.4.4-cp311-cp311-win_amd64.whl (55 kB)\n",
      "                                              0.0/55.4 kB ? eta -:--:--\n",
      "     ---------------------------------------- 55.4/55.4 kB 2.8 MB/s eta 0:00:00\n",
      "Requirement already satisfied: numpy>=1.20 in c:\\users\\shrey birmiwal\\appdata\\roaming\\python\\python311\\site-packages (from matplotlib) (1.23.5)\n",
      "Requirement already satisfied: packaging>=20.0 in c:\\users\\shrey birmiwal\\appdata\\roaming\\python\\python311\\site-packages (from matplotlib) (23.1)\n",
      "Collecting pillow>=6.2.0 (from matplotlib)\n",
      "  Downloading Pillow-9.5.0-cp311-cp311-win_amd64.whl (2.5 MB)\n",
      "                                              0.0/2.5 MB ? eta -:--:--\n",
      "     ------                                   0.4/2.5 MB 8.7 MB/s eta 0:00:01\n",
      "     ----------                               0.7/2.5 MB 8.7 MB/s eta 0:00:01\n",
      "     ----------------                         1.0/2.5 MB 7.3 MB/s eta 0:00:01\n",
      "     ---------------------                    1.4/2.5 MB 7.2 MB/s eta 0:00:01\n",
      "     ---------------------------              1.8/2.5 MB 7.4 MB/s eta 0:00:01\n",
      "     ----------------------------------       2.2/2.5 MB 7.6 MB/s eta 0:00:01\n",
      "     ---------------------------------------  2.5/2.5 MB 8.0 MB/s eta 0:00:01\n",
      "     ---------------------------------------- 2.5/2.5 MB 7.3 MB/s eta 0:00:00\n",
      "Collecting pyparsing>=2.3.1 (from matplotlib)\n",
      "  Downloading pyparsing-3.1.0-py3-none-any.whl (102 kB)\n",
      "                                              0.0/102.6 kB ? eta -:--:--\n",
      "     -------------------------------------- 102.6/102.6 kB 5.8 MB/s eta 0:00:00\n",
      "Requirement already satisfied: python-dateutil>=2.7 in c:\\users\\shrey birmiwal\\appdata\\roaming\\python\\python311\\site-packages (from matplotlib) (2.8.2)\n",
      "Requirement already satisfied: six>=1.5 in c:\\users\\shrey birmiwal\\appdata\\roaming\\python\\python311\\site-packages (from python-dateutil>=2.7->matplotlib) (1.16.0)\n",
      "Installing collected packages: pyparsing, pillow, kiwisolver, fonttools, cycler, contourpy, matplotlib\n",
      "Successfully installed contourpy-1.1.0 cycler-0.11.0 fonttools-4.40.0 kiwisolver-1.4.4 matplotlib-3.7.1 pillow-9.5.0 pyparsing-3.1.0\n"
     ]
    }
   ],
   "source": [
    "! pip install matplotlib"
   ]
  },
  {
   "cell_type": "code",
   "execution_count": 8,
   "metadata": {},
   "outputs": [
    {
     "name": "stdout",
     "output_type": "stream",
     "text": [
      "[*********************100%***********************]  1 of 1 completed\n",
      "                  Open        High         Low       Close   Adj Close  \\\n",
      "Date                                                                     \n",
      "2022-10-06  132.199997  136.559998  131.029999  131.300003  131.230560   \n",
      "2022-10-07  125.050003  126.699997  120.220001  120.760002  120.696121   \n",
      "2022-10-10  120.370003  121.239998  114.080002  116.699997  116.638268   \n",
      "2022-10-11  115.610001  118.459999  112.830002  115.860001  115.798714   \n",
      "2022-10-12  115.790001  117.349998  113.449997  115.000000  114.939163   \n",
      "...                ...         ...         ...         ...         ...   \n",
      "2023-06-21  435.010010  436.149994  420.799988  430.450012  430.450012   \n",
      "2023-06-22  422.529999  434.260010  422.339996  430.250000  430.250000   \n",
      "2023-06-23  424.640015  428.089996  420.149994  422.089996  422.089996   \n",
      "2023-06-26  424.609985  427.640015  401.000000  406.320007  406.320007   \n",
      "2023-06-27  407.989990  419.399994  404.480011  418.760010  418.760010   \n",
      "\n",
      "              Volume       gap  \n",
      "Date                            \n",
      "2022-10-06  64415700       NaN  \n",
      "2022-10-07  67247800  6.250000  \n",
      "2022-10-10  69869900  0.389999  \n",
      "2022-10-11  66748200  1.089996  \n",
      "2022-10-12  49259000  0.070000  \n",
      "...              ...       ...  \n",
      "2023-06-21  55160300  3.069977  \n",
      "2023-06-22  41773700  7.920013  \n",
      "2023-06-23  35632300  5.609985  \n",
      "2023-06-26  59432200  2.519989  \n",
      "2023-06-27  45087000  1.669983  \n",
      "\n",
      "[181 rows x 7 columns]\n",
      "Average gap amount: 3.287833319769965\n",
      "Standard deviation of gap amounts: 6.4350477821709005\n"
     ]
    },
    {
     "data": {
      "image/png": "[encoded data removed]",
      "text/plain": [
       "<Figure size 640x480 with 1 Axes>"
      ]
     },
     "metadata": {},
     "output_type": "display_data"
    }
   ],
   "source": [
    "import pandas as pd\n",
    "import yfinance as yf\n",
    "import matplotlib.pyplot as plt\n",
    "\n",
    "def calculate_gap(df):\n",
    "    df['gap'] = abs(df['Open'] - df['Close'].shift(1))\n",
    "    return df\n",
    "\n",
    "# Step 1: Take input of a stock symbol\n",
    "stock_symbol = input(\"Enter the stock symbol: \")\n",
    "\n",
    "# Step 2: Retrieve data of the stock from the past 181 trading days\n",
    "data = yf.download(stock_symbol, period='181d')\n",
    "\n",
    "# Step 3: Create a pandas DataFrame with columns ['stock ticker', 'date', 'gap']\n",
    "df = pd.DataFrame(columns=['stock ticker', 'date', 'gap'])\n",
    "\n",
    "# Step 4: Calculate the 'gap' for every day of stock data\n",
    "df['stock ticker'] = stock_symbol\n",
    "df['date'] = data.index\n",
    "df = calculate_gap(data)\n",
    "\n",
    "# Step 6: Print the pandas DataFrame\n",
    "print(df)\n",
    "\n",
    "# Step 7: Calculate the average value of all the 'gap amounts'\n",
    "average_gap = df['gap'].mean()\n",
    "print(\"Average gap amount:\", average_gap)\n",
    "\n",
    "# Step 8: Calculate the standard deviation of the 'gap amounts'\n",
    "std_deviation = df['gap'].std()\n",
    "print(\"Standard deviation of gap amounts:\", std_deviation)\n",
    "\n",
    "# Step 9: Create a histogram of the 'gap amounts'\n",
    "plt.hist(df['gap'], bins=20)\n",
    "plt.xlabel('Gap Amount')\n",
    "plt.ylabel('Frequency')\n",
    "plt.title('Histogram of Gap Amounts')\n",
    "plt.show()\n"
   ]
  }
 ],
 "metadata": {
  "kernelspec": {
   "display_name": "Python 3",
   "language": "python",
   "name": "python3"
  },
  "language_info": {
   "codemirror_mode": {
    "name": "ipython",
    "version": 3
   },
   "file_extension": ".py",
   "mimetype": "text/x-python",
   "name": "python",
   "nbconvert_exporter": "python",
   "pygments_lexer": "ipython3",
   "version": "3.11.4"
  },
  "orig_nbformat": 4
 },
 "nbformat": 4,
 "nbformat_minor": 2
}
