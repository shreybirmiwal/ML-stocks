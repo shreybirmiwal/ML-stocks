{
 "cells": [
  {
   "attachments": {},
   "cell_type": "markdown",
   "metadata": {},
   "source": [
    "Stage 1: Data collection\n",
    "- Create CV file where any stock entered data is automatically parsed and saved"
   ]
  },
  {
   "cell_type": "code",
   "execution_count": 3,
   "metadata": {},
   "outputs": [
    {
     "name": "stdout",
     "output_type": "stream",
     "text": [
      "                 Open   High        Low      Close   Volume  Dividends  \\\n",
      "Date                                                                     \n",
      "2023-06-20  24.410000  24.65  23.719999  24.580000  3250700          0   \n",
      "2023-06-21  24.840000  25.10  24.100000  24.430000  2404700          0   \n",
      "2023-06-22  24.129999  24.33  23.760000  24.320000  1889600          0   \n",
      "2023-06-23  23.780001  24.15  23.680000  23.700001  2230800          0   \n",
      "\n",
      "            Stock Splits  \n",
      "Date                      \n",
      "2023-06-20             0  \n",
      "2023-06-21             0  \n",
      "2023-06-22             0  \n",
      "2023-06-23             0  \n",
      "Data saved successfully.\n"
     ]
    }
   ],
   "source": [
    "import csv\n",
    "import yfinance as yf\n",
    "\n",
    "# Step 1: Create or locate the CSV file\n",
    "csv_file = \"StockData.csv\"\n",
    "\n",
    "try:\n",
    "    # Check if the file already exists\n",
    "    with open(csv_file, \"r\"):\n",
    "        pass\n",
    "except FileNotFoundError:\n",
    "    # Create a new file with header if it doesn't exist\n",
    "    with open(csv_file, \"w\", newline=\"\") as file:\n",
    "        writer = csv.writer(file)\n",
    "        writer.writerow([\"Ticker Symbol\", \"Average volume\", \"t-3 vol\",\n",
    "                         \"t-3 change\", \"t-2 volume\",\n",
    "                         \"t-2 change\", \"t-1 volume\",\n",
    "                         \"1-1 change\", \"Result change\"])\n",
    "\n",
    "# Step 2: Take input of ticker symbol from user\n",
    "ticker = input(\"Enter the ticker symbol: \")\n",
    "\n",
    "# Step 3: Use Yahoo Finance API to search for the ticker\n",
    "try:\n",
    "    stock = yf.Ticker(ticker)\n",
    "    info = stock.history(period=\"4d\")\n",
    "    print(info)\n",
    "\n",
    "    # Step 4: Return error if ticker does not exist\n",
    "    if info.empty:\n",
    "        print(\"Ticker does not exist.\")\n",
    "    else:\n",
    "        # Step 5: Create a new row in the CSV file\n",
    "        with open(csv_file, \"a\", newline=\"\") as file:\n",
    "            writer = csv.writer(file)\n",
    "            avgVolume = info[\"Volume\"].mean()\n",
    "            # Step 6: Add information to the row\n",
    "            row = [\n",
    "                ticker,\n",
    "                info[\"Volume\"].mean(),  # Average volume\n",
    "\n",
    "                info[\"Volume\"].iloc[0]/avgVolume,  # 3 days ago's volume\n",
    "                (info[\"Close\"].iloc[0] - info[\"Open\"].iloc[0])/(info[\"Open\"].iloc[0])*100,  # 3 days ago's daily % change\n",
    "\n",
    "                info[\"Volume\"].iloc[1]/avgVolume,  # 2 days ago's volume\n",
    "                (info[\"Close\"].iloc[1] - info[\"Open\"].iloc[1])/(info[\"Open\"].iloc[1])*100,  # 2 days ago's daily % change\n",
    "\n",
    "                info[\"Volume\"].iloc[2]/avgVolume,  # 1 day ago's volume\n",
    "                (info[\"Close\"].iloc[2] - info[\"Open\"].iloc[2])/(info[\"Open\"].iloc[2])*100,  # 1 day ago's daily % change\n",
    "\n",
    "               (info[\"Close\"].iloc[3] - info[\"Open\"].iloc[3])/(info[\"Open\"].iloc[3])*100,  # 0 days ago daily %\n",
    "            ]\n",
    "            writer.writerow(row)\n",
    "            print(\"Data saved successfully.\")\n",
    "except Exception as e:\n",
    "    print(\"An error occurred:\", str(e))\n"
   ]
  }
 ],
 "metadata": {
  "kernelspec": {
   "display_name": "Python 3",
   "language": "python",
   "name": "python3"
  },
  "language_info": {
   "codemirror_mode": {
    "name": "ipython",
    "version": 3
   },
   "file_extension": ".py",
   "mimetype": "text/x-python",
   "name": "python",
   "nbconvert_exporter": "python",
   "pygments_lexer": "ipython3",
   "version": "3.6.5"
  },
  "orig_nbformat": 4
 },
 "nbformat": 4,
 "nbformat_minor": 2
}
